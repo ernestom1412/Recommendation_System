{
 "cells": [
  {
   "cell_type": "code",
   "execution_count": 1,
   "id": "f5e2c0fd",
   "metadata": {},
   "outputs": [],
   "source": [
    "import pandas as pd\n",
    "import numpy as np\n",
    "import random\n",
    "import re\n",
    "import matplotlib.pyplot as plt\n",
    "from scipy.spatial.distance import pdist, squareform\n",
    "\n",
    "from sklearn.feature_extraction.text import CountVectorizer\n",
    "from sklearn.metrics.pairwise import cosine_similarity\n",
    "from sklearn.model_selection import train_test_split"
   ]
  },
  {
   "cell_type": "code",
   "execution_count": 20,
   "id": "dfc7f49c",
   "metadata": {},
   "outputs": [],
   "source": [
    "animes=pd.read_csv('anime.csv')\n",
    "sypnosis=pd.read_csv('anime_with_synopsis.csv')\n",
    "user_ratings=pd.read_csv('animelist.csv')"
   ]
  },
  {
   "cell_type": "code",
   "execution_count": 3,
   "id": "cdfffdca",
   "metadata": {},
   "outputs": [
    {
     "data": {
      "text/plain": [
       "17562"
      ]
     },
     "execution_count": 3,
     "metadata": {},
     "output_type": "execute_result"
    }
   ],
   "source": [
    "len(user_ratings['anime_id'].unique())"
   ]
  },
  {
   "cell_type": "code",
   "execution_count": 4,
   "id": "9c43b2f4",
   "metadata": {},
   "outputs": [
    {
     "name": "stdout",
     "output_type": "stream",
     "text": [
      "<class 'pandas.core.frame.DataFrame'>\n",
      "RangeIndex: 17562 entries, 0 to 17561\n",
      "Data columns (total 35 columns):\n",
      " #   Column         Non-Null Count  Dtype \n",
      "---  ------         --------------  ----- \n",
      " 0   MAL_ID         17562 non-null  int64 \n",
      " 1   Name           17562 non-null  object\n",
      " 2   Score          17562 non-null  object\n",
      " 3   Genres         17562 non-null  object\n",
      " 4   English name   17562 non-null  object\n",
      " 5   Japanese name  17562 non-null  object\n",
      " 6   Type           17562 non-null  object\n",
      " 7   Episodes       17562 non-null  object\n",
      " 8   Aired          17562 non-null  object\n",
      " 9   Premiered      17562 non-null  object\n",
      " 10  Producers      17562 non-null  object\n",
      " 11  Licensors      17562 non-null  object\n",
      " 12  Studios        17562 non-null  object\n",
      " 13  Source         17562 non-null  object\n",
      " 14  Duration       17562 non-null  object\n",
      " 15  Rating         17562 non-null  object\n",
      " 16  Ranked         17562 non-null  object\n",
      " 17  Popularity     17562 non-null  int64 \n",
      " 18  Members        17562 non-null  int64 \n",
      " 19  Favorites      17562 non-null  int64 \n",
      " 20  Watching       17562 non-null  int64 \n",
      " 21  Completed      17562 non-null  int64 \n",
      " 22  On-Hold        17562 non-null  int64 \n",
      " 23  Dropped        17562 non-null  int64 \n",
      " 24  Plan to Watch  17562 non-null  int64 \n",
      " 25  Score-10       17562 non-null  object\n",
      " 26  Score-9        17562 non-null  object\n",
      " 27  Score-8        17562 non-null  object\n",
      " 28  Score-7        17562 non-null  object\n",
      " 29  Score-6        17562 non-null  object\n",
      " 30  Score-5        17562 non-null  object\n",
      " 31  Score-4        17562 non-null  object\n",
      " 32  Score-3        17562 non-null  object\n",
      " 33  Score-2        17562 non-null  object\n",
      " 34  Score-1        17562 non-null  object\n",
      "dtypes: int64(9), object(26)\n",
      "memory usage: 4.7+ MB\n"
     ]
    }
   ],
   "source": [
    "animes.info()"
   ]
  },
  {
   "cell_type": "code",
   "execution_count": 5,
   "id": "658418f2",
   "metadata": {},
   "outputs": [
    {
     "name": "stdout",
     "output_type": "stream",
     "text": [
      "<class 'pandas.core.frame.DataFrame'>\n",
      "RangeIndex: 16214 entries, 0 to 16213\n",
      "Data columns (total 5 columns):\n",
      " #   Column     Non-Null Count  Dtype \n",
      "---  ------     --------------  ----- \n",
      " 0   MAL_ID     16214 non-null  int64 \n",
      " 1   Name       16214 non-null  object\n",
      " 2   Score      16214 non-null  object\n",
      " 3   Genres     16214 non-null  object\n",
      " 4   sypnopsis  16206 non-null  object\n",
      "dtypes: int64(1), object(4)\n",
      "memory usage: 633.5+ KB\n"
     ]
    }
   ],
   "source": [
    "sypnosis.info()"
   ]
  },
  {
   "cell_type": "code",
   "execution_count": 78,
   "id": "1a4f4c00",
   "metadata": {},
   "outputs": [],
   "source": [
    "animes=animes.iloc[:,:25].drop(['Japanese name'],axis=1)"
   ]
  },
  {
   "cell_type": "code",
   "execution_count": 7,
   "id": "6a6e5e3b",
   "metadata": {},
   "outputs": [
    {
     "data": {
      "text/html": [
       "<div>\n",
       "<style scoped>\n",
       "    .dataframe tbody tr th:only-of-type {\n",
       "        vertical-align: middle;\n",
       "    }\n",
       "\n",
       "    .dataframe tbody tr th {\n",
       "        vertical-align: top;\n",
       "    }\n",
       "\n",
       "    .dataframe thead th {\n",
       "        text-align: right;\n",
       "    }\n",
       "</style>\n",
       "<table border=\"1\" class=\"dataframe\">\n",
       "  <thead>\n",
       "    <tr style=\"text-align: right;\">\n",
       "      <th></th>\n",
       "      <th>MAL_ID</th>\n",
       "      <th>Name</th>\n",
       "      <th>Score</th>\n",
       "      <th>Genres</th>\n",
       "      <th>English name</th>\n",
       "      <th>Type</th>\n",
       "      <th>Episodes</th>\n",
       "      <th>Aired</th>\n",
       "      <th>Premiered</th>\n",
       "      <th>Producers</th>\n",
       "      <th>...</th>\n",
       "      <th>Rating</th>\n",
       "      <th>Ranked</th>\n",
       "      <th>Popularity</th>\n",
       "      <th>Members</th>\n",
       "      <th>Favorites</th>\n",
       "      <th>Watching</th>\n",
       "      <th>Completed</th>\n",
       "      <th>On-Hold</th>\n",
       "      <th>Dropped</th>\n",
       "      <th>Plan to Watch</th>\n",
       "    </tr>\n",
       "  </thead>\n",
       "  <tbody>\n",
       "    <tr>\n",
       "      <th>0</th>\n",
       "      <td>1</td>\n",
       "      <td>Cowboy Bebop</td>\n",
       "      <td>8.78</td>\n",
       "      <td>Action, Adventure, Comedy, Drama, Sci-Fi, Space</td>\n",
       "      <td>Cowboy Bebop</td>\n",
       "      <td>TV</td>\n",
       "      <td>26</td>\n",
       "      <td>Apr 3, 1998 to Apr 24, 1999</td>\n",
       "      <td>Spring 1998</td>\n",
       "      <td>Bandai Visual</td>\n",
       "      <td>...</td>\n",
       "      <td>R - 17+ (violence &amp; profanity)</td>\n",
       "      <td>28.0</td>\n",
       "      <td>39</td>\n",
       "      <td>1251960</td>\n",
       "      <td>61971</td>\n",
       "      <td>105808</td>\n",
       "      <td>718161</td>\n",
       "      <td>71513</td>\n",
       "      <td>26678</td>\n",
       "      <td>329800</td>\n",
       "    </tr>\n",
       "    <tr>\n",
       "      <th>1</th>\n",
       "      <td>5</td>\n",
       "      <td>Cowboy Bebop: Tengoku no Tobira</td>\n",
       "      <td>8.39</td>\n",
       "      <td>Action, Drama, Mystery, Sci-Fi, Space</td>\n",
       "      <td>Cowboy Bebop:The Movie</td>\n",
       "      <td>Movie</td>\n",
       "      <td>1</td>\n",
       "      <td>Sep 1, 2001</td>\n",
       "      <td>Unknown</td>\n",
       "      <td>Sunrise, Bandai Visual</td>\n",
       "      <td>...</td>\n",
       "      <td>R - 17+ (violence &amp; profanity)</td>\n",
       "      <td>159.0</td>\n",
       "      <td>518</td>\n",
       "      <td>273145</td>\n",
       "      <td>1174</td>\n",
       "      <td>4143</td>\n",
       "      <td>208333</td>\n",
       "      <td>1935</td>\n",
       "      <td>770</td>\n",
       "      <td>57964</td>\n",
       "    </tr>\n",
       "  </tbody>\n",
       "</table>\n",
       "<p>2 rows × 24 columns</p>\n",
       "</div>"
      ],
      "text/plain": [
       "   MAL_ID                             Name Score  \\\n",
       "0       1                     Cowboy Bebop  8.78   \n",
       "1       5  Cowboy Bebop: Tengoku no Tobira  8.39   \n",
       "\n",
       "                                            Genres            English name  \\\n",
       "0  Action, Adventure, Comedy, Drama, Sci-Fi, Space            Cowboy Bebop   \n",
       "1            Action, Drama, Mystery, Sci-Fi, Space  Cowboy Bebop:The Movie   \n",
       "\n",
       "    Type Episodes                        Aired    Premiered  \\\n",
       "0     TV       26  Apr 3, 1998 to Apr 24, 1999  Spring 1998   \n",
       "1  Movie        1                  Sep 1, 2001      Unknown   \n",
       "\n",
       "                Producers  ...                          Rating Ranked  \\\n",
       "0           Bandai Visual  ...  R - 17+ (violence & profanity)   28.0   \n",
       "1  Sunrise, Bandai Visual  ...  R - 17+ (violence & profanity)  159.0   \n",
       "\n",
       "  Popularity  Members Favorites Watching  Completed  On-Hold  Dropped  \\\n",
       "0         39  1251960     61971   105808     718161    71513    26678   \n",
       "1        518   273145      1174     4143     208333     1935      770   \n",
       "\n",
       "   Plan to Watch  \n",
       "0         329800  \n",
       "1          57964  \n",
       "\n",
       "[2 rows x 24 columns]"
      ]
     },
     "execution_count": 7,
     "metadata": {},
     "output_type": "execute_result"
    }
   ],
   "source": [
    "animes.head(2)"
   ]
  },
  {
   "cell_type": "code",
   "execution_count": 8,
   "id": "f68b9671",
   "metadata": {},
   "outputs": [
    {
     "data": {
      "text/html": [
       "<div>\n",
       "<style scoped>\n",
       "    .dataframe tbody tr th:only-of-type {\n",
       "        vertical-align: middle;\n",
       "    }\n",
       "\n",
       "    .dataframe tbody tr th {\n",
       "        vertical-align: top;\n",
       "    }\n",
       "\n",
       "    .dataframe thead th {\n",
       "        text-align: right;\n",
       "    }\n",
       "</style>\n",
       "<table border=\"1\" class=\"dataframe\">\n",
       "  <thead>\n",
       "    <tr style=\"text-align: right;\">\n",
       "      <th></th>\n",
       "      <th>MAL_ID</th>\n",
       "      <th>Name</th>\n",
       "      <th>Score</th>\n",
       "      <th>Genres</th>\n",
       "      <th>sypnopsis</th>\n",
       "    </tr>\n",
       "  </thead>\n",
       "  <tbody>\n",
       "    <tr>\n",
       "      <th>0</th>\n",
       "      <td>1</td>\n",
       "      <td>Cowboy Bebop</td>\n",
       "      <td>8.78</td>\n",
       "      <td>Action, Adventure, Comedy, Drama, Sci-Fi, Space</td>\n",
       "      <td>In the year 2071, humanity has colonized sever...</td>\n",
       "    </tr>\n",
       "    <tr>\n",
       "      <th>1</th>\n",
       "      <td>5</td>\n",
       "      <td>Cowboy Bebop: Tengoku no Tobira</td>\n",
       "      <td>8.39</td>\n",
       "      <td>Action, Drama, Mystery, Sci-Fi, Space</td>\n",
       "      <td>other day, another bounty—such is the life of ...</td>\n",
       "    </tr>\n",
       "  </tbody>\n",
       "</table>\n",
       "</div>"
      ],
      "text/plain": [
       "   MAL_ID                             Name Score  \\\n",
       "0       1                     Cowboy Bebop  8.78   \n",
       "1       5  Cowboy Bebop: Tengoku no Tobira  8.39   \n",
       "\n",
       "                                            Genres  \\\n",
       "0  Action, Adventure, Comedy, Drama, Sci-Fi, Space   \n",
       "1            Action, Drama, Mystery, Sci-Fi, Space   \n",
       "\n",
       "                                           sypnopsis  \n",
       "0  In the year 2071, humanity has colonized sever...  \n",
       "1  other day, another bounty—such is the life of ...  "
      ]
     },
     "execution_count": 8,
     "metadata": {},
     "output_type": "execute_result"
    }
   ],
   "source": [
    "sypnosis.head(2)"
   ]
  },
  {
   "cell_type": "code",
   "execution_count": 79,
   "id": "6a169e72",
   "metadata": {},
   "outputs": [],
   "source": [
    "animes_syp=animes.merge(sypnosis.drop(['Name','Score','Genres'],axis=1),on='MAL_ID',validate='1:1')"
   ]
  },
  {
   "cell_type": "code",
   "execution_count": 48,
   "id": "bc4aa3e2",
   "metadata": {},
   "outputs": [
    {
     "name": "stdout",
     "output_type": "stream",
     "text": [
      "<class 'pandas.core.frame.DataFrame'>\n",
      "Int64Index: 16214 entries, 0 to 16213\n",
      "Data columns (total 25 columns):\n",
      " #   Column         Non-Null Count  Dtype \n",
      "---  ------         --------------  ----- \n",
      " 0   MAL_ID         16214 non-null  int64 \n",
      " 1   Name           16214 non-null  object\n",
      " 2   Score          16214 non-null  object\n",
      " 3   Genres         16214 non-null  object\n",
      " 4   English name   16214 non-null  object\n",
      " 5   Type           16214 non-null  object\n",
      " 6   Episodes       16214 non-null  object\n",
      " 7   Aired          16214 non-null  object\n",
      " 8   Premiered      16214 non-null  object\n",
      " 9   Producers      16214 non-null  object\n",
      " 10  Licensors      16214 non-null  object\n",
      " 11  Studios        16214 non-null  object\n",
      " 12  Source         16214 non-null  object\n",
      " 13  Duration       16214 non-null  object\n",
      " 14  Rating         16214 non-null  object\n",
      " 15  Ranked         16214 non-null  object\n",
      " 16  Popularity     16214 non-null  int64 \n",
      " 17  Members        16214 non-null  int64 \n",
      " 18  Favorites      16214 non-null  int64 \n",
      " 19  Watching       16214 non-null  int64 \n",
      " 20  Completed      16214 non-null  int64 \n",
      " 21  On-Hold        16214 non-null  int64 \n",
      " 22  Dropped        16214 non-null  int64 \n",
      " 23  Plan to Watch  16214 non-null  int64 \n",
      " 24  sypnopsis      16206 non-null  object\n",
      "dtypes: int64(9), object(16)\n",
      "memory usage: 3.2+ MB\n"
     ]
    }
   ],
   "source": [
    "animes_syp.info()"
   ]
  },
  {
   "cell_type": "code",
   "execution_count": 80,
   "id": "650d05df",
   "metadata": {},
   "outputs": [],
   "source": [
    "animes_syp=animes_syp.dropna()"
   ]
  },
  {
   "cell_type": "code",
   "execution_count": 12,
   "id": "43d1f3f8",
   "metadata": {},
   "outputs": [
    {
     "name": "stdout",
     "output_type": "stream",
     "text": [
      "<class 'pandas.core.frame.DataFrame'>\n",
      "RangeIndex: 109224747 entries, 0 to 109224746\n",
      "Data columns (total 5 columns):\n",
      " #   Column            Dtype\n",
      "---  ------            -----\n",
      " 0   user_id           int64\n",
      " 1   anime_id          int64\n",
      " 2   rating            int64\n",
      " 3   watching_status   int64\n",
      " 4   watched_episodes  int64\n",
      "dtypes: int64(5)\n",
      "memory usage: 4.1 GB\n"
     ]
    }
   ],
   "source": [
    "user_ratings.info()"
   ]
  },
  {
   "cell_type": "code",
   "execution_count": 81,
   "id": "212a5af9",
   "metadata": {},
   "outputs": [
    {
     "data": {
      "text/html": [
       "<div>\n",
       "<style scoped>\n",
       "    .dataframe tbody tr th:only-of-type {\n",
       "        vertical-align: middle;\n",
       "    }\n",
       "\n",
       "    .dataframe tbody tr th {\n",
       "        vertical-align: top;\n",
       "    }\n",
       "\n",
       "    .dataframe thead th {\n",
       "        text-align: right;\n",
       "    }\n",
       "</style>\n",
       "<table border=\"1\" class=\"dataframe\">\n",
       "  <thead>\n",
       "    <tr style=\"text-align: right;\">\n",
       "      <th></th>\n",
       "      <th>user_id</th>\n",
       "      <th>anime_id</th>\n",
       "      <th>rating</th>\n",
       "      <th>watching_status</th>\n",
       "      <th>watched_episodes</th>\n",
       "    </tr>\n",
       "  </thead>\n",
       "  <tbody>\n",
       "    <tr>\n",
       "      <th>0</th>\n",
       "      <td>0</td>\n",
       "      <td>67</td>\n",
       "      <td>9</td>\n",
       "      <td>1</td>\n",
       "      <td>1</td>\n",
       "    </tr>\n",
       "    <tr>\n",
       "      <th>1</th>\n",
       "      <td>0</td>\n",
       "      <td>6702</td>\n",
       "      <td>7</td>\n",
       "      <td>1</td>\n",
       "      <td>4</td>\n",
       "    </tr>\n",
       "  </tbody>\n",
       "</table>\n",
       "</div>"
      ],
      "text/plain": [
       "   user_id  anime_id  rating  watching_status  watched_episodes\n",
       "0        0        67       9                1                 1\n",
       "1        0      6702       7                1                 4"
      ]
     },
     "execution_count": 81,
     "metadata": {},
     "output_type": "execute_result"
    }
   ],
   "source": [
    "user_ratings.head(2)"
   ]
  },
  {
   "cell_type": "code",
   "execution_count": 14,
   "id": "aa686bdf",
   "metadata": {},
   "outputs": [],
   "source": [
    "user_ratings250 = user_ratings[user_ratings.groupby(\"user_id\")['user_id'].transform('size') > 249]"
   ]
  },
  {
   "cell_type": "code",
   "execution_count": 15,
   "id": "6eaead1e",
   "metadata": {},
   "outputs": [
    {
     "data": {
      "text/plain": [
       "89942646"
      ]
     },
     "execution_count": 15,
     "metadata": {},
     "output_type": "execute_result"
    }
   ],
   "source": [
    "len(user_ratings250)"
   ]
  },
  {
   "cell_type": "code",
   "execution_count": 16,
   "id": "2887523d",
   "metadata": {},
   "outputs": [],
   "source": [
    "random.seed(42)\n",
    "users=random.sample(sorted(user_ratings250['user_id'].unique().tolist()),1000)"
   ]
  },
  {
   "cell_type": "code",
   "execution_count": 17,
   "id": "1d09824a",
   "metadata": {},
   "outputs": [
    {
     "data": {
      "text/plain": [
       "1000"
      ]
     },
     "execution_count": 17,
     "metadata": {},
     "output_type": "execute_result"
    }
   ],
   "source": [
    "len(users)"
   ]
  },
  {
   "cell_type": "code",
   "execution_count": 50,
   "id": "e738bf3c",
   "metadata": {},
   "outputs": [],
   "source": [
    "animeids=sorted(animes_syp['MAL_ID'].unique().tolist())"
   ]
  },
  {
   "cell_type": "code",
   "execution_count": 51,
   "id": "1fc09d39",
   "metadata": {},
   "outputs": [
    {
     "data": {
      "text/plain": [
       "16206"
      ]
     },
     "execution_count": 51,
     "metadata": {},
     "output_type": "execute_result"
    }
   ],
   "source": [
    "len(animeids)"
   ]
  },
  {
   "cell_type": "code",
   "execution_count": 29,
   "id": "1fe11568",
   "metadata": {},
   "outputs": [],
   "source": [
    "ratings_matrix=pd.DataFrame(index=animeids)\n",
    "for i in users:\n",
    "    animes_by_user=user_ratings250[user_ratings250['user_id']==i][['anime_id','rating']]\n",
    "    if len(animes_by_user)<250:\n",
    "        continue\n",
    "    else:\n",
    "        watched_animes=[int(animes_by_user.loc[animes_by_user.anime_id==j]['rating']) if j in animes_by_user.anime_id.to_list() else 0 for j in animeids]\n",
    "        ratings_matrix[i]=watched_animes"
   ]
  },
  {
   "cell_type": "code",
   "execution_count": 33,
   "id": "4d7ba71e",
   "metadata": {},
   "outputs": [],
   "source": [
    "ratings_matrix=ratings_matrix[ratings_matrix.sum(axis=1)>0]"
   ]
  },
  {
   "cell_type": "code",
   "execution_count": 39,
   "id": "8fbfb6e3",
   "metadata": {},
   "outputs": [],
   "source": [
    "ratings_index=ratings_matrix.index.to_list()"
   ]
  },
  {
   "cell_type": "code",
   "execution_count": 57,
   "id": "c5ce33eb",
   "metadata": {},
   "outputs": [],
   "source": [
    "ratings_index=[list(animes_syp.loc[animes_syp.MAL_ID==i]['Name'])[0] for i in ratings_index]"
   ]
  },
  {
   "cell_type": "code",
   "execution_count": 58,
   "id": "88a51416",
   "metadata": {},
   "outputs": [],
   "source": [
    "ratings_matrix.index=ratings_index"
   ]
  },
  {
   "cell_type": "code",
   "execution_count": 4,
   "id": "88993877",
   "metadata": {},
   "outputs": [],
   "source": [
    "#ratings_matrix.to_csv('ratings_matrix.csv')"
   ]
  },
  {
   "cell_type": "code",
   "execution_count": 5,
   "id": "e76f4a08",
   "metadata": {
    "scrolled": true
   },
   "outputs": [],
   "source": [
    "dist_eucl = 1 / (1 + squareform(pdist(ratings_matrix.T, metric='euclidean')))"
   ]
  },
  {
   "cell_type": "code",
   "execution_count": 6,
   "id": "bc8811bf",
   "metadata": {},
   "outputs": [],
   "source": [
    "distances = pd.DataFrame(dist_eucl, index=ratings_matrix.T.index, columns=ratings_matrix.T.index)"
   ]
  },
  {
   "cell_type": "code",
   "execution_count": null,
   "id": "88256047",
   "metadata": {},
   "outputs": [],
   "source": []
  },
  {
   "cell_type": "code",
   "execution_count": null,
   "id": "508f199a",
   "metadata": {},
   "outputs": [],
   "source": []
  },
  {
   "cell_type": "code",
   "execution_count": null,
   "id": "3a99b412",
   "metadata": {},
   "outputs": [],
   "source": []
  },
  {
   "cell_type": "code",
   "execution_count": 2,
   "id": "2a2cfde4",
   "metadata": {},
   "outputs": [],
   "source": [
    "ratings_matrix=pd.read_csv('ratings_matrix.csv',index_col=0)"
   ]
  },
  {
   "cell_type": "code",
   "execution_count": 3,
   "id": "aeba4de6",
   "metadata": {},
   "outputs": [],
   "source": [
    "def colab_recommendations_euc(d,ratings_matrix=ratings_matrix.T):\n",
    "    matrix=ratings_matrix.loc[:,list(d.keys())]\n",
    "    matrix=matrix[matrix.isin(range(1,11))].dropna()\n",
    "    matrix.loc['New_User'] = list(d.values())\n",
    "    dist_eucl = 1 / (1 + squareform(pdist(matrix, metric='euclidean')))\n",
    "    distances = pd.DataFrame(dist_eucl, index=matrix.index, columns=matrix.index)\n",
    "    similarities = distances['New_User'].sort_values(ascending=False)[1:]\n",
    "    similarities=similarities.to_frame()\n",
    "    animes_to_recommend=ratings_matrix.drop(list(d.keys()),axis=1)\n",
    "    animes_to_recommend=animes_to_recommend.loc[list(distances.columns)[:-1]]\n",
    "    animes_to_recommend=animes_to_recommend.T\n",
    "    for i in animes_to_recommend.columns:\n",
    "        animes_to_recommend.loc[:,i]=animes_to_recommend.loc[:,i]*float(similarities.loc[i])\n",
    "    animes_to_recommend['Total'] = animes_to_recommend.sum(axis=1)\n",
    "    animes_to_recommend=animes_to_recommend.sort_values('Total', ascending=False)['Total'].to_frame()\n",
    "    animes_to_recommend.loc[:,'Total']=round(animes_to_recommend.loc[:,'Total']*10/animes_to_recommend['Total'].max(),2)\n",
    "    return animes_to_recommend.head(10)"
   ]
  },
  {
   "cell_type": "code",
   "execution_count": 4,
   "id": "44e3d5f0",
   "metadata": {},
   "outputs": [],
   "source": [
    "def colab_recommendations_cos(d,ratings_matrix=ratings_matrix.T):\n",
    "    matrix=ratings_matrix.loc[:,list(d.keys())]\n",
    "    matrix=matrix[matrix.isin(range(1,11))].dropna()\n",
    "    matrix.loc['New_User'] = list(d.values())\n",
    "    dist_eucl = 1 / (1 + squareform(pdist(matrix, metric='cosine')))\n",
    "    distances = pd.DataFrame(dist_eucl, index=matrix.index, columns=matrix.index)\n",
    "    similarities = distances['New_User'].sort_values(ascending=False)[1:]\n",
    "    similarities=similarities.to_frame()\n",
    "    animes_to_recommend=ratings_matrix.drop(list(d.keys()),axis=1)\n",
    "    animes_to_recommend=animes_to_recommend.loc[list(distances.columns)[:-1]]\n",
    "    animes_to_recommend=animes_to_recommend.T\n",
    "    for i in animes_to_recommend.columns:\n",
    "        animes_to_recommend.loc[:,i]=animes_to_recommend.loc[:,i]*float(similarities.loc[i])\n",
    "    animes_to_recommend['Total'] = animes_to_recommend.sum(axis=1)\n",
    "    animes_to_recommend=animes_to_recommend.sort_values('Total', ascending=False)['Total'].to_frame()\n",
    "    animes_to_recommend.loc[:,'Total']=round(animes_to_recommend.loc[:,'Total']*10/animes_to_recommend['Total'].max(),2)\n",
    "    return animes_to_recommend.head(10)"
   ]
  },
  {
   "cell_type": "code",
   "execution_count": 5,
   "id": "408d12b2",
   "metadata": {},
   "outputs": [],
   "source": [
    "def colab_recommendation_combined(d):\n",
    "    combined_df = colab_recommendations_euc(d).merge(colab_recommendations_cos(d), left_index=True, right_index=True)\n",
    "    combined_df['Total'] = combined_df.sum(axis=1)/2\n",
    "    combined_df=combined_df.sort_values('Total', ascending=False)['Total'].to_frame()\n",
    "    return combined_df"
   ]
  },
  {
   "cell_type": "code",
   "execution_count": null,
   "id": "9db05e43",
   "metadata": {},
   "outputs": [],
   "source": []
  },
  {
   "cell_type": "code",
   "execution_count": 6,
   "id": "869a9e18",
   "metadata": {},
   "outputs": [],
   "source": [
    "Ernesto = {'Death Note': 8,\n",
    "           'Shingeki no Kyojin': 8,\n",
    "           'Fullmetal Alchemist: Brotherhood': 9,\n",
    "           'Sword Art Online': 7,\n",
    "           'One Punch Man': 8,\n",
    "           'Boku no Hero Academia': 7,\n",
    "           'Tokyo Ghoul': 6,\n",
    "           'Hunter x Hunter (2011)': 9,\n",
    "           'Steins;Gate': 10,\n",
    "           'Kimetsu no Yaiba': 9\n",
    "            }"
   ]
  },
  {
   "cell_type": "code",
   "execution_count": 8,
   "id": "433a03a3",
   "metadata": {},
   "outputs": [
    {
     "data": {
      "text/html": [
       "<div>\n",
       "<style scoped>\n",
       "    .dataframe tbody tr th:only-of-type {\n",
       "        vertical-align: middle;\n",
       "    }\n",
       "\n",
       "    .dataframe tbody tr th {\n",
       "        vertical-align: top;\n",
       "    }\n",
       "\n",
       "    .dataframe thead th {\n",
       "        text-align: right;\n",
       "    }\n",
       "</style>\n",
       "<table border=\"1\" class=\"dataframe\">\n",
       "  <thead>\n",
       "    <tr style=\"text-align: right;\">\n",
       "      <th></th>\n",
       "      <th>Total</th>\n",
       "    </tr>\n",
       "  </thead>\n",
       "  <tbody>\n",
       "    <tr>\n",
       "      <th>Re:Zero kara Hajimeru Isekai Seikatsu</th>\n",
       "      <td>9.990</td>\n",
       "    </tr>\n",
       "    <tr>\n",
       "      <th>Shingeki no Kyojin Season 2</th>\n",
       "      <td>9.935</td>\n",
       "    </tr>\n",
       "    <tr>\n",
       "      <th>Kimi no Na wa.</th>\n",
       "      <td>9.870</td>\n",
       "    </tr>\n",
       "    <tr>\n",
       "      <th>Boku no Hero Academia 2nd Season</th>\n",
       "      <td>9.730</td>\n",
       "    </tr>\n",
       "    <tr>\n",
       "      <th>Kiseijuu: Sei no Kakuritsu</th>\n",
       "      <td>9.485</td>\n",
       "    </tr>\n",
       "    <tr>\n",
       "      <th>Code Geass: Hangyaku no Lelouch</th>\n",
       "      <td>9.450</td>\n",
       "    </tr>\n",
       "    <tr>\n",
       "      <th>No Game No Life</th>\n",
       "      <td>9.355</td>\n",
       "    </tr>\n",
       "    <tr>\n",
       "      <th>Code Geass: Hangyaku no Lelouch R2</th>\n",
       "      <td>9.295</td>\n",
       "    </tr>\n",
       "    <tr>\n",
       "      <th>Boku dake ga Inai Machi</th>\n",
       "      <td>9.265</td>\n",
       "    </tr>\n",
       "    <tr>\n",
       "      <th>Koe no Katachi</th>\n",
       "      <td>9.195</td>\n",
       "    </tr>\n",
       "  </tbody>\n",
       "</table>\n",
       "</div>"
      ],
      "text/plain": [
       "                                       Total\n",
       "Re:Zero kara Hajimeru Isekai Seikatsu  9.990\n",
       "Shingeki no Kyojin Season 2            9.935\n",
       "Kimi no Na wa.                         9.870\n",
       "Boku no Hero Academia 2nd Season       9.730\n",
       "Kiseijuu: Sei no Kakuritsu             9.485\n",
       "Code Geass: Hangyaku no Lelouch        9.450\n",
       "No Game No Life                        9.355\n",
       "Code Geass: Hangyaku no Lelouch R2     9.295\n",
       "Boku dake ga Inai Machi                9.265\n",
       "Koe no Katachi                         9.195"
      ]
     },
     "execution_count": 8,
     "metadata": {},
     "output_type": "execute_result"
    }
   ],
   "source": [
    "colab_recommendation_combined(Ernesto)"
   ]
  }
 ],
 "metadata": {
  "kernelspec": {
   "display_name": "Python 3",
   "language": "python",
   "name": "python3"
  },
  "language_info": {
   "codemirror_mode": {
    "name": "ipython",
    "version": 3
   },
   "file_extension": ".py",
   "mimetype": "text/x-python",
   "name": "python",
   "nbconvert_exporter": "python",
   "pygments_lexer": "ipython3",
   "version": "3.8.8"
  }
 },
 "nbformat": 4,
 "nbformat_minor": 5
}
